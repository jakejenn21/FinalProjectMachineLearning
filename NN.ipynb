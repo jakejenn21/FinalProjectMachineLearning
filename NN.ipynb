{
 "metadata": {
  "language_info": {
   "codemirror_mode": {
    "name": "ipython",
    "version": 3
   },
   "file_extension": ".py",
   "mimetype": "text/x-python",
   "name": "python",
   "nbconvert_exporter": "python",
   "pygments_lexer": "ipython3",
   "version": "3.9.1-final"
  },
  "orig_nbformat": 2,
  "kernelspec": {
   "name": "python3",
   "display_name": "Python 3.9.1 64-bit",
   "metadata": {
    "interpreter": {
     "hash": "aee8b7b246df8f9039afb4144a1f6fd8d2ca17a180786b69acc140d282b71a49"
    }
   }
  }
 },
 "nbformat": 4,
 "nbformat_minor": 2,
 "cells": [
  {
   "cell_type": "code",
   "execution_count": 46,
   "metadata": {},
   "outputs": [
    {
     "output_type": "stream",
     "name": "stdout",
     "text": [
      "Train shape: (25000, 14) | Test shape: (23842, 14) | Submission shape: (23842, 2)\n\n    age         workclass    education  education.num      marital.status  \\\n0   53  Self-emp-not-inc  Prof-school             15  Married-civ-spouse   \n1   33  Self-emp-not-inc    Bachelors             13  Married-civ-spouse   \n2   47           Private      HS-grad              9  Married-civ-spouse   \n3   40           Private      HS-grad              9            Divorced   \n4   39           Private      HS-grad              9  Married-civ-spouse   \n\n         occupation    relationship                race     sex  capital.gain  \\\n0    Prof-specialty         Husband  Asian-Pac-Islander    Male             0   \n1   Exec-managerial         Husband               White    Male             0   \n2      Craft-repair         Husband               White    Male             0   \n3      Craft-repair  Other-relative               White  Female             0   \n4  Transport-moving         Husband               White    Male             0   \n\n   capital.loss  hours.per.week native.country  income>50K  \n0             0              40          India           1  \n1             0              40  United-States           1  \n2             0              40  United-States           0  \n3             0              40        Vietnam           0  \n4             0              50  United-States           0  \n"
     ]
    },
    {
     "output_type": "execute_result",
     "data": {
      "text/plain": [
       "<AxesSubplot:xlabel='income>50K', ylabel='count'>"
      ]
     },
     "metadata": {},
     "execution_count": 46
    },
    {
     "output_type": "display_data",
     "data": {
      "text/plain": "<Figure size 432x288 with 1 Axes>",
      "image/svg+xml": "<?xml version=\"1.0\" encoding=\"utf-8\" standalone=\"no\"?>\n<!DOCTYPE svg PUBLIC \"-//W3C//DTD SVG 1.1//EN\"\n  \"http://www.w3.org/Graphics/SVG/1.1/DTD/svg11.dtd\">\n<svg height=\"264.131875pt\" version=\"1.1\" viewBox=\"0 0 403.62625 264.131875\" width=\"403.62625pt\" xmlns=\"http://www.w3.org/2000/svg\" xmlns:xlink=\"http://www.w3.org/1999/xlink\">\n <metadata>\n  <rdf:RDF xmlns:cc=\"http://creativecommons.org/ns#\" xmlns:dc=\"http://purl.org/dc/elements/1.1/\" xmlns:rdf=\"http://www.w3.org/1999/02/22-rdf-syntax-ns#\">\n   <cc:Work>\n    <dc:type rdf:resource=\"http://purl.org/dc/dcmitype/StillImage\"/>\n    <dc:date>2021-12-15T16:42:03.932400</dc:date>\n    <dc:format>image/svg+xml</dc:format>\n    <dc:creator>\n     <cc:Agent>\n      <dc:title>Matplotlib v3.4.3, https://matplotlib.org/</dc:title>\n     </cc:Agent>\n    </dc:creator>\n   </cc:Work>\n  </rdf:RDF>\n </metadata>\n <defs>\n  <style type=\"text/css\">*{stroke-linecap:butt;stroke-linejoin:round;}</style>\n </defs>\n <g id=\"figure_1\">\n  <g id=\"patch_1\">\n   <path d=\"M -0 264.131875 \nL 403.62625 264.131875 \nL 403.62625 0 \nL -0 0 \nz\n\" style=\"fill:#ffffff;\"/>\n  </g>\n  <g id=\"axes_1\">\n   <g id=\"patch_2\">\n    <path d=\"M 61.62625 224.64 \nL 396.42625 224.64 \nL 396.42625 7.2 \nL 61.62625 7.2 \nz\n\" style=\"fill:#e5e5e5;\"/>\n   </g>\n   <g id=\"matplotlib.axis_1\">\n    <g id=\"xtick_1\">\n     <g id=\"line2d_1\">\n      <defs>\n       <path d=\"M 0 0 \nL 0 3.5 \n\" id=\"m924c6658f2\" style=\"stroke:#555555;stroke-width:0.8;\"/>\n      </defs>\n      <g>\n       <use style=\"fill:#555555;stroke:#555555;stroke-width:0.8;\" x=\"145.32625\" xlink:href=\"#m924c6658f2\" y=\"224.64\"/>\n      </g>\n     </g>\n     <g id=\"text_1\">\n      <!-- 0 -->\n      <g style=\"fill:#555555;\" transform=\"translate(142.145 239.238437)scale(0.1 -0.1)\">\n       <defs>\n        <path d=\"M 2034 4250 \nQ 1547 4250 1301 3770 \nQ 1056 3291 1056 2328 \nQ 1056 1369 1301 889 \nQ 1547 409 2034 409 \nQ 2525 409 2770 889 \nQ 3016 1369 3016 2328 \nQ 3016 3291 2770 3770 \nQ 2525 4250 2034 4250 \nz\nM 2034 4750 \nQ 2819 4750 3233 4129 \nQ 3647 3509 3647 2328 \nQ 3647 1150 3233 529 \nQ 2819 -91 2034 -91 \nQ 1250 -91 836 529 \nQ 422 1150 422 2328 \nQ 422 3509 836 4129 \nQ 1250 4750 2034 4750 \nz\n\" id=\"DejaVuSans-30\" transform=\"scale(0.015625)\"/>\n       </defs>\n       <use xlink:href=\"#DejaVuSans-30\"/>\n      </g>\n     </g>\n    </g>\n    <g id=\"xtick_2\">\n     <g id=\"line2d_2\">\n      <g>\n       <use style=\"fill:#555555;stroke:#555555;stroke-width:0.8;\" x=\"312.72625\" xlink:href=\"#m924c6658f2\" y=\"224.64\"/>\n      </g>\n     </g>\n     <g id=\"text_2\">\n      <!-- 1 -->\n      <g style=\"fill:#555555;\" transform=\"translate(309.545 239.238437)scale(0.1 -0.1)\">\n       <defs>\n        <path d=\"M 794 531 \nL 1825 531 \nL 1825 4091 \nL 703 3866 \nL 703 4441 \nL 1819 4666 \nL 2450 4666 \nL 2450 531 \nL 3481 531 \nL 3481 0 \nL 794 0 \nL 794 531 \nz\n\" id=\"DejaVuSans-31\" transform=\"scale(0.015625)\"/>\n       </defs>\n       <use xlink:href=\"#DejaVuSans-31\"/>\n      </g>\n     </g>\n    </g>\n    <g id=\"text_3\">\n     <!-- income&gt;50K -->\n     <g style=\"fill:#555555;\" transform=\"translate(190.452813 254.43625)scale(0.12 -0.12)\">\n      <defs>\n       <path d=\"M 603 3500 \nL 1178 3500 \nL 1178 0 \nL 603 0 \nL 603 3500 \nz\nM 603 4863 \nL 1178 4863 \nL 1178 4134 \nL 603 4134 \nL 603 4863 \nz\n\" id=\"DejaVuSans-69\" transform=\"scale(0.015625)\"/>\n       <path d=\"M 3513 2113 \nL 3513 0 \nL 2938 0 \nL 2938 2094 \nQ 2938 2591 2744 2837 \nQ 2550 3084 2163 3084 \nQ 1697 3084 1428 2787 \nQ 1159 2491 1159 1978 \nL 1159 0 \nL 581 0 \nL 581 3500 \nL 1159 3500 \nL 1159 2956 \nQ 1366 3272 1645 3428 \nQ 1925 3584 2291 3584 \nQ 2894 3584 3203 3211 \nQ 3513 2838 3513 2113 \nz\n\" id=\"DejaVuSans-6e\" transform=\"scale(0.015625)\"/>\n       <path d=\"M 3122 3366 \nL 3122 2828 \nQ 2878 2963 2633 3030 \nQ 2388 3097 2138 3097 \nQ 1578 3097 1268 2742 \nQ 959 2388 959 1747 \nQ 959 1106 1268 751 \nQ 1578 397 2138 397 \nQ 2388 397 2633 464 \nQ 2878 531 3122 666 \nL 3122 134 \nQ 2881 22 2623 -34 \nQ 2366 -91 2075 -91 \nQ 1284 -91 818 406 \nQ 353 903 353 1747 \nQ 353 2603 823 3093 \nQ 1294 3584 2113 3584 \nQ 2378 3584 2631 3529 \nQ 2884 3475 3122 3366 \nz\n\" id=\"DejaVuSans-63\" transform=\"scale(0.015625)\"/>\n       <path d=\"M 1959 3097 \nQ 1497 3097 1228 2736 \nQ 959 2375 959 1747 \nQ 959 1119 1226 758 \nQ 1494 397 1959 397 \nQ 2419 397 2687 759 \nQ 2956 1122 2956 1747 \nQ 2956 2369 2687 2733 \nQ 2419 3097 1959 3097 \nz\nM 1959 3584 \nQ 2709 3584 3137 3096 \nQ 3566 2609 3566 1747 \nQ 3566 888 3137 398 \nQ 2709 -91 1959 -91 \nQ 1206 -91 779 398 \nQ 353 888 353 1747 \nQ 353 2609 779 3096 \nQ 1206 3584 1959 3584 \nz\n\" id=\"DejaVuSans-6f\" transform=\"scale(0.015625)\"/>\n       <path d=\"M 3328 2828 \nQ 3544 3216 3844 3400 \nQ 4144 3584 4550 3584 \nQ 5097 3584 5394 3201 \nQ 5691 2819 5691 2113 \nL 5691 0 \nL 5113 0 \nL 5113 2094 \nQ 5113 2597 4934 2840 \nQ 4756 3084 4391 3084 \nQ 3944 3084 3684 2787 \nQ 3425 2491 3425 1978 \nL 3425 0 \nL 2847 0 \nL 2847 2094 \nQ 2847 2600 2669 2842 \nQ 2491 3084 2119 3084 \nQ 1678 3084 1418 2786 \nQ 1159 2488 1159 1978 \nL 1159 0 \nL 581 0 \nL 581 3500 \nL 1159 3500 \nL 1159 2956 \nQ 1356 3278 1631 3431 \nQ 1906 3584 2284 3584 \nQ 2666 3584 2933 3390 \nQ 3200 3197 3328 2828 \nz\n\" id=\"DejaVuSans-6d\" transform=\"scale(0.015625)\"/>\n       <path d=\"M 3597 1894 \nL 3597 1613 \nL 953 1613 \nQ 991 1019 1311 708 \nQ 1631 397 2203 397 \nQ 2534 397 2845 478 \nQ 3156 559 3463 722 \nL 3463 178 \nQ 3153 47 2828 -22 \nQ 2503 -91 2169 -91 \nQ 1331 -91 842 396 \nQ 353 884 353 1716 \nQ 353 2575 817 3079 \nQ 1281 3584 2069 3584 \nQ 2775 3584 3186 3129 \nQ 3597 2675 3597 1894 \nz\nM 3022 2063 \nQ 3016 2534 2758 2815 \nQ 2500 3097 2075 3097 \nQ 1594 3097 1305 2825 \nQ 1016 2553 972 2059 \nL 3022 2063 \nz\n\" id=\"DejaVuSans-65\" transform=\"scale(0.015625)\"/>\n       <path d=\"M 678 3150 \nL 678 3719 \nL 4684 2266 \nL 4684 1747 \nL 678 294 \nL 678 863 \nL 3897 2003 \nL 678 3150 \nz\n\" id=\"DejaVuSans-3e\" transform=\"scale(0.015625)\"/>\n       <path d=\"M 691 4666 \nL 3169 4666 \nL 3169 4134 \nL 1269 4134 \nL 1269 2991 \nQ 1406 3038 1543 3061 \nQ 1681 3084 1819 3084 \nQ 2600 3084 3056 2656 \nQ 3513 2228 3513 1497 \nQ 3513 744 3044 326 \nQ 2575 -91 1722 -91 \nQ 1428 -91 1123 -41 \nQ 819 9 494 109 \nL 494 744 \nQ 775 591 1075 516 \nQ 1375 441 1709 441 \nQ 2250 441 2565 725 \nQ 2881 1009 2881 1497 \nQ 2881 1984 2565 2268 \nQ 2250 2553 1709 2553 \nQ 1456 2553 1204 2497 \nQ 953 2441 691 2322 \nL 691 4666 \nz\n\" id=\"DejaVuSans-35\" transform=\"scale(0.015625)\"/>\n       <path d=\"M 628 4666 \nL 1259 4666 \nL 1259 2694 \nL 3353 4666 \nL 4166 4666 \nL 1850 2491 \nL 4331 0 \nL 3500 0 \nL 1259 2247 \nL 1259 0 \nL 628 0 \nL 628 4666 \nz\n\" id=\"DejaVuSans-4b\" transform=\"scale(0.015625)\"/>\n      </defs>\n      <use xlink:href=\"#DejaVuSans-69\"/>\n      <use x=\"27.783203\" xlink:href=\"#DejaVuSans-6e\"/>\n      <use x=\"91.162109\" xlink:href=\"#DejaVuSans-63\"/>\n      <use x=\"146.142578\" xlink:href=\"#DejaVuSans-6f\"/>\n      <use x=\"207.324219\" xlink:href=\"#DejaVuSans-6d\"/>\n      <use x=\"304.736328\" xlink:href=\"#DejaVuSans-65\"/>\n      <use x=\"366.259766\" xlink:href=\"#DejaVuSans-3e\"/>\n      <use x=\"450.048828\" xlink:href=\"#DejaVuSans-35\"/>\n      <use x=\"513.671875\" xlink:href=\"#DejaVuSans-30\"/>\n      <use x=\"577.294922\" xlink:href=\"#DejaVuSans-4b\"/>\n     </g>\n    </g>\n   </g>\n   <g id=\"matplotlib.axis_2\">\n    <g id=\"ytick_1\">\n     <g id=\"line2d_3\">\n      <path clip-path=\"url(#p374e3143b1)\" d=\"M 61.62625 224.64 \nL 396.42625 224.64 \n\" style=\"fill:none;stroke:#ffffff;stroke-linecap:square;stroke-width:0.8;\"/>\n     </g>\n     <g id=\"line2d_4\">\n      <defs>\n       <path d=\"M 0 0 \nL -3.5 0 \n\" id=\"m332ab6567b\" style=\"stroke:#555555;stroke-width:0.8;\"/>\n      </defs>\n      <g>\n       <use style=\"fill:#555555;stroke:#555555;stroke-width:0.8;\" x=\"61.62625\" xlink:href=\"#m332ab6567b\" y=\"224.64\"/>\n      </g>\n     </g>\n     <g id=\"text_4\">\n      <!-- 0 -->\n      <g style=\"fill:#555555;\" transform=\"translate(48.26375 228.439219)scale(0.1 -0.1)\">\n       <use xlink:href=\"#DejaVuSans-30\"/>\n      </g>\n     </g>\n    </g>\n    <g id=\"ytick_2\">\n     <g id=\"line2d_5\">\n      <path clip-path=\"url(#p374e3143b1)\" d=\"M 61.62625 197.368915 \nL 396.42625 197.368915 \n\" style=\"fill:none;stroke:#ffffff;stroke-linecap:square;stroke-width:0.8;\"/>\n     </g>\n     <g id=\"line2d_6\">\n      <g>\n       <use style=\"fill:#555555;stroke:#555555;stroke-width:0.8;\" x=\"61.62625\" xlink:href=\"#m332ab6567b\" y=\"197.368915\"/>\n      </g>\n     </g>\n     <g id=\"text_5\">\n      <!-- 2500 -->\n      <g style=\"fill:#555555;\" transform=\"translate(29.17625 201.168133)scale(0.1 -0.1)\">\n       <defs>\n        <path d=\"M 1228 531 \nL 3431 531 \nL 3431 0 \nL 469 0 \nL 469 531 \nQ 828 903 1448 1529 \nQ 2069 2156 2228 2338 \nQ 2531 2678 2651 2914 \nQ 2772 3150 2772 3378 \nQ 2772 3750 2511 3984 \nQ 2250 4219 1831 4219 \nQ 1534 4219 1204 4116 \nQ 875 4013 500 3803 \nL 500 4441 \nQ 881 4594 1212 4672 \nQ 1544 4750 1819 4750 \nQ 2544 4750 2975 4387 \nQ 3406 4025 3406 3419 \nQ 3406 3131 3298 2873 \nQ 3191 2616 2906 2266 \nQ 2828 2175 2409 1742 \nQ 1991 1309 1228 531 \nz\n\" id=\"DejaVuSans-32\" transform=\"scale(0.015625)\"/>\n       </defs>\n       <use xlink:href=\"#DejaVuSans-32\"/>\n       <use x=\"63.623047\" xlink:href=\"#DejaVuSans-35\"/>\n       <use x=\"127.246094\" xlink:href=\"#DejaVuSans-30\"/>\n       <use x=\"190.869141\" xlink:href=\"#DejaVuSans-30\"/>\n      </g>\n     </g>\n    </g>\n    <g id=\"ytick_3\">\n     <g id=\"line2d_7\">\n      <path clip-path=\"url(#p374e3143b1)\" d=\"M 61.62625 170.097829 \nL 396.42625 170.097829 \n\" style=\"fill:none;stroke:#ffffff;stroke-linecap:square;stroke-width:0.8;\"/>\n     </g>\n     <g id=\"line2d_8\">\n      <g>\n       <use style=\"fill:#555555;stroke:#555555;stroke-width:0.8;\" x=\"61.62625\" xlink:href=\"#m332ab6567b\" y=\"170.097829\"/>\n      </g>\n     </g>\n     <g id=\"text_6\">\n      <!-- 5000 -->\n      <g style=\"fill:#555555;\" transform=\"translate(29.17625 173.897048)scale(0.1 -0.1)\">\n       <use xlink:href=\"#DejaVuSans-35\"/>\n       <use x=\"63.623047\" xlink:href=\"#DejaVuSans-30\"/>\n       <use x=\"127.246094\" xlink:href=\"#DejaVuSans-30\"/>\n       <use x=\"190.869141\" xlink:href=\"#DejaVuSans-30\"/>\n      </g>\n     </g>\n    </g>\n    <g id=\"ytick_4\">\n     <g id=\"line2d_9\">\n      <path clip-path=\"url(#p374e3143b1)\" d=\"M 61.62625 142.826744 \nL 396.42625 142.826744 \n\" style=\"fill:none;stroke:#ffffff;stroke-linecap:square;stroke-width:0.8;\"/>\n     </g>\n     <g id=\"line2d_10\">\n      <g>\n       <use style=\"fill:#555555;stroke:#555555;stroke-width:0.8;\" x=\"61.62625\" xlink:href=\"#m332ab6567b\" y=\"142.826744\"/>\n      </g>\n     </g>\n     <g id=\"text_7\">\n      <!-- 7500 -->\n      <g style=\"fill:#555555;\" transform=\"translate(29.17625 146.625962)scale(0.1 -0.1)\">\n       <defs>\n        <path d=\"M 525 4666 \nL 3525 4666 \nL 3525 4397 \nL 1831 0 \nL 1172 0 \nL 2766 4134 \nL 525 4134 \nL 525 4666 \nz\n\" id=\"DejaVuSans-37\" transform=\"scale(0.015625)\"/>\n       </defs>\n       <use xlink:href=\"#DejaVuSans-37\"/>\n       <use x=\"63.623047\" xlink:href=\"#DejaVuSans-35\"/>\n       <use x=\"127.246094\" xlink:href=\"#DejaVuSans-30\"/>\n       <use x=\"190.869141\" xlink:href=\"#DejaVuSans-30\"/>\n      </g>\n     </g>\n    </g>\n    <g id=\"ytick_5\">\n     <g id=\"line2d_11\">\n      <path clip-path=\"url(#p374e3143b1)\" d=\"M 61.62625 115.555658 \nL 396.42625 115.555658 \n\" style=\"fill:none;stroke:#ffffff;stroke-linecap:square;stroke-width:0.8;\"/>\n     </g>\n     <g id=\"line2d_12\">\n      <g>\n       <use style=\"fill:#555555;stroke:#555555;stroke-width:0.8;\" x=\"61.62625\" xlink:href=\"#m332ab6567b\" y=\"115.555658\"/>\n      </g>\n     </g>\n     <g id=\"text_8\">\n      <!-- 10000 -->\n      <g style=\"fill:#555555;\" transform=\"translate(22.81375 119.354877)scale(0.1 -0.1)\">\n       <use xlink:href=\"#DejaVuSans-31\"/>\n       <use x=\"63.623047\" xlink:href=\"#DejaVuSans-30\"/>\n       <use x=\"127.246094\" xlink:href=\"#DejaVuSans-30\"/>\n       <use x=\"190.869141\" xlink:href=\"#DejaVuSans-30\"/>\n       <use x=\"254.492188\" xlink:href=\"#DejaVuSans-30\"/>\n      </g>\n     </g>\n    </g>\n    <g id=\"ytick_6\">\n     <g id=\"line2d_13\">\n      <path clip-path=\"url(#p374e3143b1)\" d=\"M 61.62625 88.284573 \nL 396.42625 88.284573 \n\" style=\"fill:none;stroke:#ffffff;stroke-linecap:square;stroke-width:0.8;\"/>\n     </g>\n     <g id=\"line2d_14\">\n      <g>\n       <use style=\"fill:#555555;stroke:#555555;stroke-width:0.8;\" x=\"61.62625\" xlink:href=\"#m332ab6567b\" y=\"88.284573\"/>\n      </g>\n     </g>\n     <g id=\"text_9\">\n      <!-- 12500 -->\n      <g style=\"fill:#555555;\" transform=\"translate(22.81375 92.083792)scale(0.1 -0.1)\">\n       <use xlink:href=\"#DejaVuSans-31\"/>\n       <use x=\"63.623047\" xlink:href=\"#DejaVuSans-32\"/>\n       <use x=\"127.246094\" xlink:href=\"#DejaVuSans-35\"/>\n       <use x=\"190.869141\" xlink:href=\"#DejaVuSans-30\"/>\n       <use x=\"254.492188\" xlink:href=\"#DejaVuSans-30\"/>\n      </g>\n     </g>\n    </g>\n    <g id=\"ytick_7\">\n     <g id=\"line2d_15\">\n      <path clip-path=\"url(#p374e3143b1)\" d=\"M 61.62625 61.013487 \nL 396.42625 61.013487 \n\" style=\"fill:none;stroke:#ffffff;stroke-linecap:square;stroke-width:0.8;\"/>\n     </g>\n     <g id=\"line2d_16\">\n      <g>\n       <use style=\"fill:#555555;stroke:#555555;stroke-width:0.8;\" x=\"61.62625\" xlink:href=\"#m332ab6567b\" y=\"61.013487\"/>\n      </g>\n     </g>\n     <g id=\"text_10\">\n      <!-- 15000 -->\n      <g style=\"fill:#555555;\" transform=\"translate(22.81375 64.812706)scale(0.1 -0.1)\">\n       <use xlink:href=\"#DejaVuSans-31\"/>\n       <use x=\"63.623047\" xlink:href=\"#DejaVuSans-35\"/>\n       <use x=\"127.246094\" xlink:href=\"#DejaVuSans-30\"/>\n       <use x=\"190.869141\" xlink:href=\"#DejaVuSans-30\"/>\n       <use x=\"254.492188\" xlink:href=\"#DejaVuSans-30\"/>\n      </g>\n     </g>\n    </g>\n    <g id=\"ytick_8\">\n     <g id=\"line2d_17\">\n      <path clip-path=\"url(#p374e3143b1)\" d=\"M 61.62625 33.742402 \nL 396.42625 33.742402 \n\" style=\"fill:none;stroke:#ffffff;stroke-linecap:square;stroke-width:0.8;\"/>\n     </g>\n     <g id=\"line2d_18\">\n      <g>\n       <use style=\"fill:#555555;stroke:#555555;stroke-width:0.8;\" x=\"61.62625\" xlink:href=\"#m332ab6567b\" y=\"33.742402\"/>\n      </g>\n     </g>\n     <g id=\"text_11\">\n      <!-- 17500 -->\n      <g style=\"fill:#555555;\" transform=\"translate(22.81375 37.541621)scale(0.1 -0.1)\">\n       <use xlink:href=\"#DejaVuSans-31\"/>\n       <use x=\"63.623047\" xlink:href=\"#DejaVuSans-37\"/>\n       <use x=\"127.246094\" xlink:href=\"#DejaVuSans-35\"/>\n       <use x=\"190.869141\" xlink:href=\"#DejaVuSans-30\"/>\n       <use x=\"254.492188\" xlink:href=\"#DejaVuSans-30\"/>\n      </g>\n     </g>\n    </g>\n    <g id=\"text_12\">\n     <!-- count -->\n     <g style=\"fill:#555555;\" transform=\"translate(16.318125 132.8475)rotate(-90)scale(0.12 -0.12)\">\n      <defs>\n       <path d=\"M 544 1381 \nL 544 3500 \nL 1119 3500 \nL 1119 1403 \nQ 1119 906 1312 657 \nQ 1506 409 1894 409 \nQ 2359 409 2629 706 \nQ 2900 1003 2900 1516 \nL 2900 3500 \nL 3475 3500 \nL 3475 0 \nL 2900 0 \nL 2900 538 \nQ 2691 219 2414 64 \nQ 2138 -91 1772 -91 \nQ 1169 -91 856 284 \nQ 544 659 544 1381 \nz\nM 1991 3584 \nL 1991 3584 \nz\n\" id=\"DejaVuSans-75\" transform=\"scale(0.015625)\"/>\n       <path d=\"M 1172 4494 \nL 1172 3500 \nL 2356 3500 \nL 2356 3053 \nL 1172 3053 \nL 1172 1153 \nQ 1172 725 1289 603 \nQ 1406 481 1766 481 \nL 2356 481 \nL 2356 0 \nL 1766 0 \nQ 1100 0 847 248 \nQ 594 497 594 1153 \nL 594 3053 \nL 172 3053 \nL 172 3500 \nL 594 3500 \nL 594 4494 \nL 1172 4494 \nz\n\" id=\"DejaVuSans-74\" transform=\"scale(0.015625)\"/>\n      </defs>\n      <use xlink:href=\"#DejaVuSans-63\"/>\n      <use x=\"54.980469\" xlink:href=\"#DejaVuSans-6f\"/>\n      <use x=\"116.162109\" xlink:href=\"#DejaVuSans-75\"/>\n      <use x=\"179.541016\" xlink:href=\"#DejaVuSans-6e\"/>\n      <use x=\"242.919922\" xlink:href=\"#DejaVuSans-74\"/>\n     </g>\n    </g>\n   </g>\n   <g id=\"patch_3\">\n    <path clip-path=\"url(#p374e3143b1)\" d=\"M 78.36625 224.64 \nL 212.28625 224.64 \nL 212.28625 17.554286 \nL 78.36625 17.554286 \nz\n\" style=\"fill:#cc5a49;\"/>\n   </g>\n   <g id=\"patch_4\">\n    <path clip-path=\"url(#p374e3143b1)\" d=\"M 245.76625 224.64 \nL 379.68625 224.64 \nL 379.68625 159.01486 \nL 245.76625 159.01486 \nz\n\" style=\"fill:#4586ac;\"/>\n   </g>\n   <g id=\"patch_5\">\n    <path d=\"M 61.62625 224.64 \nL 61.62625 7.2 \n\" style=\"fill:none;stroke:#ffffff;stroke-linecap:square;stroke-linejoin:miter;\"/>\n   </g>\n   <g id=\"patch_6\">\n    <path d=\"M 396.42625 224.64 \nL 396.42625 7.2 \n\" style=\"fill:none;stroke:#ffffff;stroke-linecap:square;stroke-linejoin:miter;\"/>\n   </g>\n   <g id=\"patch_7\">\n    <path d=\"M 61.62625 224.64 \nL 396.42625 224.64 \n\" style=\"fill:none;stroke:#ffffff;stroke-linecap:square;stroke-linejoin:miter;\"/>\n   </g>\n   <g id=\"patch_8\">\n    <path d=\"M 61.62625 7.2 \nL 396.42625 7.2 \n\" style=\"fill:none;stroke:#ffffff;stroke-linecap:square;stroke-linejoin:miter;\"/>\n   </g>\n  </g>\n </g>\n <defs>\n  <clipPath id=\"p374e3143b1\">\n   <rect height=\"217.44\" width=\"334.8\" x=\"61.62625\" y=\"7.2\"/>\n  </clipPath>\n </defs>\n</svg>\n",
      "image/png": "[encoded data removed]"
     },
     "metadata": {}
    }
   ],
   "source": [
    "import csv\n",
    "import warnings\n",
    "warnings.filterwarnings('ignore')\n",
    "\n",
    "import os\n",
    "\n",
    "import pandas as pd\n",
    "import numpy as np\n",
    "import torch\n",
    "from torch import nn\n",
    "import matplotlib.pyplot as plt\n",
    "plt.style.use('ggplot')\n",
    "import seaborn as sns\n",
    "from tqdm import tqdm_notebook as tqdm\n",
    "\n",
    "from sklearn.model_selection import train_test_split\n",
    "from sklearn import metrics, preprocessing\n",
    "\n",
    "\n",
    "# X Train\n",
    "traindf = pd.read_csv(\"in-csv/train_final.csv\")\n",
    "# X Test\n",
    "testdf = pd.read_csv(\"in-csv/test_final.csv\")\n",
    "\n",
    "#try dropping fnlwgt\n",
    "traindf = traindf.drop('fnlwgt', axis=1)\n",
    "testdf = testdf.drop('fnlwgt', axis=1)\n",
    "\n",
    "# X Sample\n",
    "sampledf = pd.read_csv(\"in-csv/sample_final.csv\")\n",
    "\n",
    "\n",
    "# -----------Data Exploration-------------\n",
    "\n",
    "print(f'Train shape: {traindf.shape}',\n",
    "      f'Test shape: {testdf.shape}',\n",
    "      f'Submission shape: {sampledf.shape}', sep=' | ')\n",
    "\n",
    "print(\"\\n\", traindf.head())\n",
    "\n",
    "sns.countplot(traindf.iloc[:, -1])"
   ]
  },
  {
   "cell_type": "code",
   "execution_count": 47,
   "metadata": {},
   "outputs": [
    {
     "output_type": "execute_result",
     "data": {
      "text/plain": [
       "           columns  num_of_unique\n",
       "0              age             73\n",
       "1        workclass              9\n",
       "2        education             16\n",
       "3    education.num             16\n",
       "4   marital.status              7\n",
       "5       occupation             15\n",
       "6     relationship              6\n",
       "7             race              5\n",
       "8              sex              2\n",
       "9     capital.gain            117\n",
       "10    capital.loss             89\n",
       "11  hours.per.week             92\n",
       "12  native.country             41\n",
       "13      income>50K              2"
      ],
      "text/html": "<div>\n<style scoped>\n    .dataframe tbody tr th:only-of-type {\n        vertical-align: middle;\n    }\n\n    .dataframe tbody tr th {\n        vertical-align: top;\n    }\n\n    .dataframe thead th {\n        text-align: right;\n    }\n</style>\n<table border=\"1\" class=\"dataframe\">\n  <thead>\n    <tr style=\"text-align: right;\">\n      <th></th>\n      <th>columns</th>\n      <th>num_of_unique</th>\n    </tr>\n  </thead>\n  <tbody>\n    <tr>\n      <th>0</th>\n      <td>age</td>\n      <td>73</td>\n    </tr>\n    <tr>\n      <th>1</th>\n      <td>workclass</td>\n      <td>9</td>\n    </tr>\n    <tr>\n      <th>2</th>\n      <td>education</td>\n      <td>16</td>\n    </tr>\n    <tr>\n      <th>3</th>\n      <td>education.num</td>\n      <td>16</td>\n    </tr>\n    <tr>\n      <th>4</th>\n      <td>marital.status</td>\n      <td>7</td>\n    </tr>\n    <tr>\n      <th>5</th>\n      <td>occupation</td>\n      <td>15</td>\n    </tr>\n    <tr>\n      <th>6</th>\n      <td>relationship</td>\n      <td>6</td>\n    </tr>\n    <tr>\n      <th>7</th>\n      <td>race</td>\n      <td>5</td>\n    </tr>\n    <tr>\n      <th>8</th>\n      <td>sex</td>\n      <td>2</td>\n    </tr>\n    <tr>\n      <th>9</th>\n      <td>capital.gain</td>\n      <td>117</td>\n    </tr>\n    <tr>\n      <th>10</th>\n      <td>capital.loss</td>\n      <td>89</td>\n    </tr>\n    <tr>\n      <th>11</th>\n      <td>hours.per.week</td>\n      <td>92</td>\n    </tr>\n    <tr>\n      <th>12</th>\n      <td>native.country</td>\n      <td>41</td>\n    </tr>\n    <tr>\n      <th>13</th>\n      <td>income&gt;50K</td>\n      <td>2</td>\n    </tr>\n  </tbody>\n</table>\n</div>"
     },
     "metadata": {},
     "execution_count": 47
    }
   ],
   "source": [
    "# View uniques values of train data\n",
    "\n",
    "traindf.index.nunique(), len(traindf.index)\n",
    "\n",
    "traindf.head()\n",
    "\n",
    "nunique_vals = list()\n",
    "\n",
    "for column in traindf:\n",
    "    nunique_vals.append(traindf[column].nunique())\n",
    "    \n",
    "pd.DataFrame({'columns': traindf.columns,\n",
    "              'num_of_unique': nunique_vals})"
   ]
  },
  {
   "cell_type": "code",
   "execution_count": 48,
   "metadata": {},
   "outputs": [
    {
     "output_type": "execute_result",
     "data": {
      "text/plain": [
       "           columns  num_of_unique\n",
       "0              age             74\n",
       "1        workclass              9\n",
       "2        education             16\n",
       "3    education.num             16\n",
       "4   marital.status              7\n",
       "5       occupation             15\n",
       "6     relationship              6\n",
       "7             race              5\n",
       "8              sex              2\n",
       "9     capital.gain            123\n",
       "10    capital.loss             99\n",
       "11  hours.per.week             96\n",
       "12  native.country             42\n",
       "13      income>50K              2"
      ],
      "text/html": "<div>\n<style scoped>\n    .dataframe tbody tr th:only-of-type {\n        vertical-align: middle;\n    }\n\n    .dataframe tbody tr th {\n        vertical-align: top;\n    }\n\n    .dataframe thead th {\n        text-align: right;\n    }\n</style>\n<table border=\"1\" class=\"dataframe\">\n  <thead>\n    <tr style=\"text-align: right;\">\n      <th></th>\n      <th>columns</th>\n      <th>num_of_unique</th>\n    </tr>\n  </thead>\n  <tbody>\n    <tr>\n      <th>0</th>\n      <td>age</td>\n      <td>74</td>\n    </tr>\n    <tr>\n      <th>1</th>\n      <td>workclass</td>\n      <td>9</td>\n    </tr>\n    <tr>\n      <th>2</th>\n      <td>education</td>\n      <td>16</td>\n    </tr>\n    <tr>\n      <th>3</th>\n      <td>education.num</td>\n      <td>16</td>\n    </tr>\n    <tr>\n      <th>4</th>\n      <td>marital.status</td>\n      <td>7</td>\n    </tr>\n    <tr>\n      <th>5</th>\n      <td>occupation</td>\n      <td>15</td>\n    </tr>\n    <tr>\n      <th>6</th>\n      <td>relationship</td>\n      <td>6</td>\n    </tr>\n    <tr>\n      <th>7</th>\n      <td>race</td>\n      <td>5</td>\n    </tr>\n    <tr>\n      <th>8</th>\n      <td>sex</td>\n      <td>2</td>\n    </tr>\n    <tr>\n      <th>9</th>\n      <td>capital.gain</td>\n      <td>123</td>\n    </tr>\n    <tr>\n      <th>10</th>\n      <td>capital.loss</td>\n      <td>99</td>\n    </tr>\n    <tr>\n      <th>11</th>\n      <td>hours.per.week</td>\n      <td>96</td>\n    </tr>\n    <tr>\n      <th>12</th>\n      <td>native.country</td>\n      <td>42</td>\n    </tr>\n    <tr>\n      <th>13</th>\n      <td>income&gt;50K</td>\n      <td>2</td>\n    </tr>\n  </tbody>\n</table>\n</div>"
     },
     "metadata": {},
     "execution_count": 48
    }
   ],
   "source": [
    "\n",
    "# View uniques values of train and test data\n",
    "\n",
    "all_df = pd.concat([traindf, testdf], axis=0, ignore_index=True)\n",
    "\n",
    "all_df.index.nunique(), len(all_df.index)\n",
    "\n",
    "all_df = all_df.drop('ID', axis=1)\n",
    "\n",
    "all_df.head()\n",
    "\n",
    "nunique_vals = list()\n",
    "\n",
    "for column in all_df:\n",
    "    nunique_vals.append(all_df[column].nunique())\n",
    "    \n",
    "pd.DataFrame({'columns': all_df.columns,\n",
    "              'num_of_unique': nunique_vals})"
   ]
  },
  {
   "cell_type": "code",
   "execution_count": 49,
   "metadata": {},
   "outputs": [
    {
     "output_type": "stream",
     "name": "stdout",
     "text": [
      "Statistics fot column: age\nColumn unique values:\n [53 33 47 40 39 55 22 27 37 79 31 19 21 56 26 42 30 35 68 38 34 32 72 24\n 50 28 49 29 51 48 41 66 60 20 76 45 52 18 44 59 75 71 46 23 17 54 36 25\n 57 43 58 64 61 70 90 81 85 62 65 69 67 80 63 77 78 73 84 74 88 83 82 87\n 89 86]\nNumber of unique values: 74\nNumber of NAN values: 0\n__________________________________________________\nStatistics fot column: workclass\nColumn unique values:\n ['Self-emp-not-inc' 'Private' 'Federal-gov' 'Local-gov' 'Self-emp-inc' '?'\n 'State-gov' 'Never-worked' 'Without-pay']\nNumber of unique values: 9\nNumber of NAN values: 0\n__________________________________________________\nStatistics fot column: education\nColumn unique values:\n ['Prof-school' 'Bachelors' 'HS-grad' 'Doctorate' 'Masters' 'Some-college'\n '11th' '12th' '5th-6th' 'Assoc-acdm' '9th' 'Preschool' 'Assoc-voc'\n '7th-8th' '10th' '1st-4th']\nNumber of unique values: 16\nNumber of NAN values: 0\n__________________________________________________\nStatistics fot column: education.num\nColumn unique values:\n [15 13  9 16 14 10  7  8  3 12  5  1 11  4  6  2]\nNumber of unique values: 16\nNumber of NAN values: 0\n__________________________________________________\nStatistics fot column: marital.status\nColumn unique values:\n ['Married-civ-spouse' 'Divorced' 'Never-married' 'Married-spouse-absent'\n 'Widowed' 'Separated' 'Married-AF-spouse']\nNumber of unique values: 7\nNumber of NAN values: 0\n__________________________________________________\nStatistics fot column: occupation\nColumn unique values:\n ['Prof-specialty' 'Exec-managerial' 'Craft-repair' 'Transport-moving'\n 'Other-service' 'Machine-op-inspct' 'Adm-clerical' 'Sales'\n 'Handlers-cleaners' '?' 'Farming-fishing' 'Tech-support'\n 'Priv-house-serv' 'Protective-serv' 'Armed-Forces']\nNumber of unique values: 15\nNumber of NAN values: 0\n__________________________________________________\nStatistics fot column: relationship\nColumn unique values:\n ['Husband' 'Other-relative' 'Unmarried' 'Not-in-family' 'Own-child' 'Wife']\nNumber of unique values: 6\nNumber of NAN values: 0\n__________________________________________________\nStatistics fot column: race\nColumn unique values:\n ['Asian-Pac-Islander' 'White' 'Black' 'Other' 'Amer-Indian-Eskimo']\nNumber of unique values: 5\nNumber of NAN values: 0\n__________________________________________________\nStatistics fot column: sex\nColumn unique values:\n ['Male' 'Female']\nNumber of unique values: 2\nNumber of NAN values: 0\n__________________________________________________\nStatistics fot column: capital.gain\nColumn unique values:\n [    0 15024  7298 15020 99999  4865  7688  3325  3456  4386   594  1506\n 10605  3464 27828  3432  3137  4787  5178  8614  5013  1086  2635  9386\n  3103  1848  5721  2174  1639  2407  2414  1831  4650  2829  4416  2346\n   914  2580  4508 20051  2885  3471  4064  2329  2062  3908  5556  4101\n  1055  5455  3781  6418  2176 10520 14344  1151  1797  2463 34095  6849\n 25236  3818  3273  3942  2538 14084  7430  2009  1424  2354 15831   114\n  7896  2961  7443  2964  3674 13550  6497  2597  9562  4934  2228  2202\n  3411  1455  5060  2050  3418  4931 18481  1264  2907  2653  2977  3887\n  1173  2105  2936  6514 25124  1409   991  2036  1471 11678  6767   401\n  6097  6723  7978  2290 41310  4687  2993  6360 10566 22040  1111  7262\n  6612  2387  1731]\nNumber of unique values: 123\nNumber of NAN values: 0\n__________________________________________________\nStatistics fot column: capital.loss\nColumn unique values:\n [   0 1721 2258 1510 1980 1887 1741  625 2206 1579 1564 1902 4356 2205\n 1719 2057 1876 2392 1977 2415 1485 1848 1602 1590 1594 1740 2377 2559\n 1672 2824 1380 2051 1617 1504 2444 1092 1628 2001 2339 2179 1408 2231\n 3683 1411 1668 2042 1974 2352 1726 1844 2603  880 2149 2002 1573 1651\n 2129 1762 2282 1669  419 1825 2174 1429  213 1911 2457 2080 2472 3175\n 1816 2238 3004 1944 1421  653 1340 3770 1258 1735 2246  974 1648 2754\n  810  323 2267 2547 1138 2163 2467 1755 1870 3900 2465 1539  155 2489\n 2201]\nNumber of unique values: 99\nNumber of NAN values: 0\n__________________________________________________\nStatistics fot column: hours.per.week\nColumn unique values:\n [40 50 60 45 35 41  7 24 15 48 25 36 28 56 20 70 30 42 65 46 10 44  8 63\n 54 16 55 72 86  5 12  6 43 38 80 27 32 52 49 37 33 34 99 18 75 53 22  4\n 14 62 26 21 47  2 11  3 90 19 88 66 23 17 84 57 39 82 58  9 85 61 76  1\n 98 89 78 51 31 94 64 29 96 97 68 73 13 95 77 92 91 59 69 74 67 81 79 87]\nNumber of unique values: 96\nNumber of NAN values: 0\n__________________________________________________\nStatistics fot column: native.country\nColumn unique values:\n ['India' 'United-States' 'Vietnam' 'England' 'Mexico' '?' 'Guatemala'\n 'Iran' 'Laos' 'Germany' 'Thailand' 'Ireland' 'Philippines' 'Hong' 'China'\n 'Dominican-Republic' 'Scotland' 'Haiti' 'Cuba' 'Jamaica' 'Peru' 'Canada'\n 'Cambodia' 'Italy' 'Poland' 'Yugoslavia' 'El-Salvador' 'Columbia'\n 'Greece' 'Ecuador' 'Japan' 'South' 'Puerto-Rico' 'Nicaragua'\n 'Outlying-US(Guam-USVI-etc)' 'Taiwan' 'Honduras' 'Trinadad&Tobago'\n 'Portugal' 'Hungary' 'France' 'Holand-Netherlands']\nNumber of unique values: 42\nNumber of NAN values: 0\n__________________________________________________\nStatistics fot column: income>50K\nColumn unique values:\n [ 1.  0. nan]\nNumber of unique values: 3\nNumber of NAN values: 23842\n__________________________________________________\n"
     ]
    }
   ],
   "source": [
    "# Check for NaN Values\n",
    "\n",
    "for column in all_df.columns:\n",
    "\n",
    "    unique_values = all_df[column].unique()\n",
    "    \n",
    "    print(f'Statistics fot column: {column}')\n",
    "    print(f'Column unique values:\\n {unique_values}')\n",
    "    print(f'Number of unique values: {len(unique_values)}')\n",
    "    print(f'Number of NAN values: {all_df[column].isna().sum()}')\n",
    "    print('_' * 50)"
   ]
  },
  {
   "cell_type": "code",
   "execution_count": 50,
   "metadata": {},
   "outputs": [
    {
     "output_type": "display_data",
     "data": {
      "text/plain": "  0%|          | 0/8 [00:00<?, ?it/s]",
      "application/vnd.jupyter.widget-view+json": {
       "version_major": 2,
       "version_minor": 0,
       "model_id": "0975503130ab49b999505ce92905eaab"
      }
     },
     "metadata": {}
    }
   ],
   "source": [
    "# Features encoding\n",
    "\n",
    "# Possibly drop fnlwgt???\n",
    "#all_df = all_df.drop('fnlwgt', axis=1)\n",
    "\n",
    "categorical = ['workclass', 'education', 'marital.status', 'occupation',\n",
    "               'relationship', 'race', 'sex', 'native.country']\n",
    "\n",
    "continuous = ['age','education.num','capital.gain','capital.loss','hours.per.week']\n",
    "\n",
    "# Use LabelEncoding to change string values to numbers\n",
    "\n",
    "features = [x for x in all_df.columns \n",
    "            if x not in ['ID', 'income>50K'] + continuous]\n",
    "\n",
    "for feat in tqdm(features):\n",
    "    lbl_enc = preprocessing.LabelEncoder()\n",
    "    \n",
    "    all_df[feat] = lbl_enc.fit_transform(all_df[feat]. \\\n",
    "                                         fillna('-1'). \\\n",
    "                                         astype(str).values)\n",
    "    \n",
    "all_df['income>50K'] = all_df['income>50K'].fillna(-1)\n",
    "all_df[continuous] = all_df[continuous].fillna(-2)\n"
   ]
  },
  {
   "cell_type": "code",
   "execution_count": 51,
   "metadata": {},
   "outputs": [
    {
     "output_type": "execute_result",
     "data": {
      "text/plain": [
       "0"
      ]
     },
     "metadata": {},
     "execution_count": 51
    }
   ],
   "source": [
    "# Print Information\n",
    "\n",
    "all_df.head()\n",
    "\n",
    "all_df.shape\n",
    "\n",
    "all_df.isna().sum().sum()"
   ]
  },
  {
   "cell_type": "code",
   "execution_count": 52,
   "metadata": {},
   "outputs": [
    {
     "output_type": "stream",
     "name": "stdout",
     "text": [
      "Train shape: (25000, 14) | Test shape: (23842, 14)\n"
     ]
    },
    {
     "output_type": "execute_result",
     "data": {
      "text/plain": [
       "(array([[53,  6, 14, ...,  0, 40, 19],\n",
       "        [33,  6,  9, ...,  0, 40, 39],\n",
       "        [47,  4, 11, ...,  0, 40, 39],\n",
       "        ...,\n",
       "        [39,  4, 12, ...,  0, 40, 31],\n",
       "        [53,  4, 11, ...,  0, 46, 39],\n",
       "        [18,  0, 15, ...,  0, 40, 39]]),\n",
       " array([1., 1., 0., ..., 0., 1., 0.]),\n",
       " array([[33,  6, 11, ...,  0, 40, 39],\n",
       "        [68,  0, 11, ...,  0, 12, 39],\n",
       "        [34,  4, 11, ...,  0, 40, 39],\n",
       "        ...,\n",
       "        [67,  5, 15, ...,  0, 20, 39],\n",
       "        [46,  2,  7, ...,  0, 40, 39],\n",
       "        [66,  1,  0, ...,  0, 40, 39]]))"
      ]
     },
     "metadata": {},
     "execution_count": 52
    }
   ],
   "source": [
    "# Prepare Data for Training and Testing\n",
    "\n",
    "train = all_df[:traindf.shape[0]]\n",
    "test = all_df[traindf.shape[0]:]\n",
    "\n",
    "print(f'Train shape: {train.shape}',\n",
    "      f'Test shape: {test.shape}', sep=' | ')\n",
    "\n",
    "train.isna().sum().sum(), test.isna().sum().sum() \n",
    "\n",
    "train_data = train.drop('income>50K', axis=1).to_numpy()\n",
    "train_target = train['income>50K'].to_numpy()\n",
    "\n",
    "test_data = test.drop('income>50K', axis=1).to_numpy()\n",
    "\n",
    "categorical = all_df.drop(['income>50K'] + continuous,\n",
    "                          axis=1).columns\n",
    "\n",
    "cat_cols_idx, cont_cols_idx = list(), list()\n",
    "\n",
    "for idx, column in enumerate(all_df.drop('income>50K',\n",
    "                                         axis=1).columns):\n",
    "    if column in categorical:\n",
    "        cat_cols_idx.append(idx)\n",
    "    elif column in continuous:\n",
    "        cont_cols_idx.append(idx)\n",
    "\n",
    "train_data, train_target, test_data\n"
   ]
  },
  {
   "cell_type": "code",
   "execution_count": 53,
   "metadata": {},
   "outputs": [],
   "source": [
    "class NN(nn.Module):\n",
    "    def __init__(self, hidden_width, depth, activation):\n",
    "        super(NN, self).__init__()\n",
    "        layers = []\n",
    "        input_layer = nn.Linear(13, hidden_width)\n",
    "        if activation == \"relu\":\n",
    "            activation_input = nn.ReLU()\n",
    "        else:\n",
    "            activation_input = nn.Tanh()\n",
    "\n",
    "        layers.append(input_layer)\n",
    "        layers.append(activation_input)\n",
    "        for i in range(depth-1):\n",
    "            hidden_layer = nn.Linear(hidden_width, hidden_width)\n",
    "            if activation == \"relu\":\n",
    "                activation_hidden = nn.ReLU()\n",
    "            else:\n",
    "                activation_hidden = nn.Tanh()\n",
    "\n",
    "            layers.append(hidden_layer)\n",
    "            layers.append(activation_hidden)\n",
    "\n",
    "        output_layer = nn.Linear(hidden_width, 1)\n",
    "        layers.append(output_layer)\n",
    "\n",
    "        self.model = nn.Sequential(*layers)\n",
    "\n",
    "        def init_weights_relu(m):\n",
    "            if isinstance(m, nn.Linear):\n",
    "                torch.nn.init.kaiming_uniform_(m.weight)\n",
    "\n",
    "        def init_weights_tanh(m):\n",
    "            if isinstance(m, nn.Linear):\n",
    "                torch.nn.init.xavier_normal_(m.weight)\n",
    "\n",
    "        if activation == 'relu':\n",
    "            self.model.apply(init_weights_relu)\n",
    "        else:\n",
    "            self.model.apply(init_weights_tanh)\n",
    "\n",
    "    def forward(self, X):\n",
    "        input = np.float32(X)\n",
    "        out = torch.from_numpy(input)\n",
    "        out.requires_grad = True\n",
    "        return self.model(out)"
   ]
  },
  {
   "cell_type": "code",
   "execution_count": 54,
   "metadata": {},
   "outputs": [
    {
     "output_type": "stream",
     "name": "stdout",
     "text": [
      "\n",
      "Tanh:\n",
      "\n",
      "width: 5, depth:3, train error: 0.56\n",
      "width: 5, depth:5, train error: 0.241\n",
      "width: 5, depth:9, train error: 0.404\n",
      "width: 10, depth:3, train error: 0.241\n",
      "width: 10, depth:5, train error: 0.759\n",
      "width: 10, depth:9, train error: 0.241\n",
      "width: 25, depth:3, train error: 0.767\n",
      "width: 25, depth:5, train error: 0.753\n",
      "width: 25, depth:9, train error: 0.469\n",
      "width: 50, depth:3, train error: 0.25\n",
      "width: 50, depth:5, train error: 0.521\n",
      "width: 50, depth:9, train error: 0.759\n",
      "width: 100, depth:3, train error: 0.368\n",
      "width: 100, depth:5, train error: 0.778\n"
     ]
    },
    {
     "output_type": "error",
     "ename": "KeyboardInterrupt",
     "evalue": "",
     "traceback": [
      "\u001b[0;31m---------------------------------------------------------------------------\u001b[0m",
      "\u001b[0;31mKeyboardInterrupt\u001b[0m                         Traceback (most recent call last)",
      "\u001b[0;32m/var/folders/dn/nlt677wd5sb6q9mrpms5syfw0000gn/T/ipykernel_951/1748547101.py\u001b[0m in \u001b[0;36m<module>\u001b[0;34m\u001b[0m\n\u001b[1;32m     17\u001b[0m \u001b[0;34m\u001b[0m\u001b[0m\n\u001b[1;32m     18\u001b[0m             \u001b[0;31m# Forward pass: compute predicted y by passing x to the model.\u001b[0m\u001b[0;34m\u001b[0m\u001b[0;34m\u001b[0m\u001b[0;34m\u001b[0m\u001b[0m\n\u001b[0;32m---> 19\u001b[0;31m             \u001b[0my_train_pred_tensor\u001b[0m \u001b[0;34m=\u001b[0m \u001b[0mNeuralNet\u001b[0m\u001b[0;34m.\u001b[0m\u001b[0mforward\u001b[0m\u001b[0;34m(\u001b[0m\u001b[0mtrain_data\u001b[0m\u001b[0;34m)\u001b[0m\u001b[0;34m.\u001b[0m\u001b[0mflatten\u001b[0m\u001b[0;34m(\u001b[0m\u001b[0;34m)\u001b[0m\u001b[0;34m\u001b[0m\u001b[0;34m\u001b[0m\u001b[0m\n\u001b[0m\u001b[1;32m     20\u001b[0m \u001b[0;34m\u001b[0m\u001b[0m\n\u001b[1;32m     21\u001b[0m             \u001b[0my_train_np\u001b[0m \u001b[0;34m=\u001b[0m \u001b[0mnp\u001b[0m\u001b[0;34m.\u001b[0m\u001b[0mfloat32\u001b[0m\u001b[0;34m(\u001b[0m\u001b[0mtrain_target\u001b[0m\u001b[0;34m)\u001b[0m\u001b[0;34m\u001b[0m\u001b[0;34m\u001b[0m\u001b[0m\n",
      "\u001b[0;32m/var/folders/dn/nlt677wd5sb6q9mrpms5syfw0000gn/T/ipykernel_951/3428459873.py\u001b[0m in \u001b[0;36mforward\u001b[0;34m(self, X)\u001b[0m\n\u001b[1;32m     43\u001b[0m         \u001b[0mout\u001b[0m \u001b[0;34m=\u001b[0m \u001b[0mtorch\u001b[0m\u001b[0;34m.\u001b[0m\u001b[0mfrom_numpy\u001b[0m\u001b[0;34m(\u001b[0m\u001b[0minput\u001b[0m\u001b[0;34m)\u001b[0m\u001b[0;34m\u001b[0m\u001b[0;34m\u001b[0m\u001b[0m\n\u001b[1;32m     44\u001b[0m         \u001b[0mout\u001b[0m\u001b[0;34m.\u001b[0m\u001b[0mrequires_grad\u001b[0m \u001b[0;34m=\u001b[0m \u001b[0;32mTrue\u001b[0m\u001b[0;34m\u001b[0m\u001b[0;34m\u001b[0m\u001b[0m\n\u001b[0;32m---> 45\u001b[0;31m         \u001b[0;32mreturn\u001b[0m \u001b[0mself\u001b[0m\u001b[0;34m.\u001b[0m\u001b[0mmodel\u001b[0m\u001b[0;34m(\u001b[0m\u001b[0mout\u001b[0m\u001b[0;34m)\u001b[0m\u001b[0;34m\u001b[0m\u001b[0;34m\u001b[0m\u001b[0m\n\u001b[0m",
      "\u001b[0;32m/usr/local/lib/python3.9/site-packages/torch/nn/modules/module.py\u001b[0m in \u001b[0;36m_call_impl\u001b[0;34m(self, *input, **kwargs)\u001b[0m\n\u001b[1;32m   1100\u001b[0m         if not (self._backward_hooks or self._forward_hooks or self._forward_pre_hooks or _global_backward_hooks\n\u001b[1;32m   1101\u001b[0m                 or _global_forward_hooks or _global_forward_pre_hooks):\n\u001b[0;32m-> 1102\u001b[0;31m             \u001b[0;32mreturn\u001b[0m \u001b[0mforward_call\u001b[0m\u001b[0;34m(\u001b[0m\u001b[0;34m*\u001b[0m\u001b[0minput\u001b[0m\u001b[0;34m,\u001b[0m \u001b[0;34m**\u001b[0m\u001b[0mkwargs\u001b[0m\u001b[0;34m)\u001b[0m\u001b[0;34m\u001b[0m\u001b[0;34m\u001b[0m\u001b[0m\n\u001b[0m\u001b[1;32m   1103\u001b[0m         \u001b[0;31m# Do not call functions when jit is used\u001b[0m\u001b[0;34m\u001b[0m\u001b[0;34m\u001b[0m\u001b[0;34m\u001b[0m\u001b[0m\n\u001b[1;32m   1104\u001b[0m         \u001b[0mfull_backward_hooks\u001b[0m\u001b[0;34m,\u001b[0m \u001b[0mnon_full_backward_hooks\u001b[0m \u001b[0;34m=\u001b[0m \u001b[0;34m[\u001b[0m\u001b[0;34m]\u001b[0m\u001b[0;34m,\u001b[0m \u001b[0;34m[\u001b[0m\u001b[0;34m]\u001b[0m\u001b[0;34m\u001b[0m\u001b[0;34m\u001b[0m\u001b[0m\n",
      "\u001b[0;32m/usr/local/lib/python3.9/site-packages/torch/nn/modules/container.py\u001b[0m in \u001b[0;36mforward\u001b[0;34m(self, input)\u001b[0m\n\u001b[1;32m    139\u001b[0m     \u001b[0;32mdef\u001b[0m \u001b[0mforward\u001b[0m\u001b[0;34m(\u001b[0m\u001b[0mself\u001b[0m\u001b[0;34m,\u001b[0m \u001b[0minput\u001b[0m\u001b[0;34m)\u001b[0m\u001b[0;34m:\u001b[0m\u001b[0;34m\u001b[0m\u001b[0;34m\u001b[0m\u001b[0m\n\u001b[1;32m    140\u001b[0m         \u001b[0;32mfor\u001b[0m \u001b[0mmodule\u001b[0m \u001b[0;32min\u001b[0m \u001b[0mself\u001b[0m\u001b[0;34m:\u001b[0m\u001b[0;34m\u001b[0m\u001b[0;34m\u001b[0m\u001b[0m\n\u001b[0;32m--> 141\u001b[0;31m             \u001b[0minput\u001b[0m \u001b[0;34m=\u001b[0m \u001b[0mmodule\u001b[0m\u001b[0;34m(\u001b[0m\u001b[0minput\u001b[0m\u001b[0;34m)\u001b[0m\u001b[0;34m\u001b[0m\u001b[0;34m\u001b[0m\u001b[0m\n\u001b[0m\u001b[1;32m    142\u001b[0m         \u001b[0;32mreturn\u001b[0m \u001b[0minput\u001b[0m\u001b[0;34m\u001b[0m\u001b[0;34m\u001b[0m\u001b[0m\n\u001b[1;32m    143\u001b[0m \u001b[0;34m\u001b[0m\u001b[0m\n",
      "\u001b[0;32m/usr/local/lib/python3.9/site-packages/torch/nn/modules/module.py\u001b[0m in \u001b[0;36m_call_impl\u001b[0;34m(self, *input, **kwargs)\u001b[0m\n\u001b[1;32m   1100\u001b[0m         if not (self._backward_hooks or self._forward_hooks or self._forward_pre_hooks or _global_backward_hooks\n\u001b[1;32m   1101\u001b[0m                 or _global_forward_hooks or _global_forward_pre_hooks):\n\u001b[0;32m-> 1102\u001b[0;31m             \u001b[0;32mreturn\u001b[0m \u001b[0mforward_call\u001b[0m\u001b[0;34m(\u001b[0m\u001b[0;34m*\u001b[0m\u001b[0minput\u001b[0m\u001b[0;34m,\u001b[0m \u001b[0;34m**\u001b[0m\u001b[0mkwargs\u001b[0m\u001b[0;34m)\u001b[0m\u001b[0;34m\u001b[0m\u001b[0;34m\u001b[0m\u001b[0m\n\u001b[0m\u001b[1;32m   1103\u001b[0m         \u001b[0;31m# Do not call functions when jit is used\u001b[0m\u001b[0;34m\u001b[0m\u001b[0;34m\u001b[0m\u001b[0;34m\u001b[0m\u001b[0m\n\u001b[1;32m   1104\u001b[0m         \u001b[0mfull_backward_hooks\u001b[0m\u001b[0;34m,\u001b[0m \u001b[0mnon_full_backward_hooks\u001b[0m \u001b[0;34m=\u001b[0m \u001b[0;34m[\u001b[0m\u001b[0;34m]\u001b[0m\u001b[0;34m,\u001b[0m \u001b[0;34m[\u001b[0m\u001b[0;34m]\u001b[0m\u001b[0;34m\u001b[0m\u001b[0;34m\u001b[0m\u001b[0m\n",
      "\u001b[0;32m/usr/local/lib/python3.9/site-packages/torch/nn/modules/linear.py\u001b[0m in \u001b[0;36mforward\u001b[0;34m(self, input)\u001b[0m\n\u001b[1;32m    101\u001b[0m \u001b[0;34m\u001b[0m\u001b[0m\n\u001b[1;32m    102\u001b[0m     \u001b[0;32mdef\u001b[0m \u001b[0mforward\u001b[0m\u001b[0;34m(\u001b[0m\u001b[0mself\u001b[0m\u001b[0;34m,\u001b[0m \u001b[0minput\u001b[0m\u001b[0;34m:\u001b[0m \u001b[0mTensor\u001b[0m\u001b[0;34m)\u001b[0m \u001b[0;34m->\u001b[0m \u001b[0mTensor\u001b[0m\u001b[0;34m:\u001b[0m\u001b[0;34m\u001b[0m\u001b[0;34m\u001b[0m\u001b[0m\n\u001b[0;32m--> 103\u001b[0;31m         \u001b[0;32mreturn\u001b[0m \u001b[0mF\u001b[0m\u001b[0;34m.\u001b[0m\u001b[0mlinear\u001b[0m\u001b[0;34m(\u001b[0m\u001b[0minput\u001b[0m\u001b[0;34m,\u001b[0m \u001b[0mself\u001b[0m\u001b[0;34m.\u001b[0m\u001b[0mweight\u001b[0m\u001b[0;34m,\u001b[0m \u001b[0mself\u001b[0m\u001b[0;34m.\u001b[0m\u001b[0mbias\u001b[0m\u001b[0;34m)\u001b[0m\u001b[0;34m\u001b[0m\u001b[0;34m\u001b[0m\u001b[0m\n\u001b[0m\u001b[1;32m    104\u001b[0m \u001b[0;34m\u001b[0m\u001b[0m\n\u001b[1;32m    105\u001b[0m     \u001b[0;32mdef\u001b[0m \u001b[0mextra_repr\u001b[0m\u001b[0;34m(\u001b[0m\u001b[0mself\u001b[0m\u001b[0;34m)\u001b[0m \u001b[0;34m->\u001b[0m \u001b[0mstr\u001b[0m\u001b[0;34m:\u001b[0m\u001b[0;34m\u001b[0m\u001b[0;34m\u001b[0m\u001b[0m\n",
      "\u001b[0;31mKeyboardInterrupt\u001b[0m: "
     ]
    }
   ],
   "source": [
    "#Training\n",
    "\n",
    "print(\"\\nTanh:\\n\")\n",
    "\n",
    "depth = [3, 5, 9]\n",
    "width = [5, 10, 25, 50, 100]\n",
    "criterion = torch.nn.MSELoss(reduction='sum')\n",
    "\n",
    "for i in width:\n",
    "    for j in depth:\n",
    "        NeuralNet = NN(i, j, \"tanh\")\n",
    "        optimizer = torch.optim.SGD(NeuralNet.parameters(), lr=0.01, momentum=0.9)\n",
    "\n",
    "        for t in range(1000):\n",
    "\n",
    "            optimizer.zero_grad()\n",
    "\n",
    "            # Forward pass: compute predicted y by passing x to the model.\n",
    "            y_train_pred_tensor = NeuralNet.forward(train_data).flatten()\n",
    "\n",
    "            y_train_np = np.float32(train_target)\n",
    "            y_train_tensor = torch.from_numpy(y_train_np)\n",
    "            y_train_tensor.requires_grad = True\n",
    "            y_train_tensor = y_train_pred_tensor.flatten()\n",
    "\n",
    "            # print(y_train_pred_tensor)\n",
    "\n",
    "            # print(y_train_tensor)\n",
    "\n",
    "            loss = criterion(y_train_pred_tensor.flatten(), y_train_tensor)\n",
    "\n",
    "            # Backward pass: compute gradient of the loss with respect to model\n",
    "            loss.backward()\n",
    "\n",
    "            # Calling the step function on an Optimizer makes an update to its parameters\n",
    "            optimizer.step()\n",
    "\n",
    "        #train error\n",
    "        train_pred = NeuralNet.forward(train_data)\n",
    "\n",
    "        train_pred[train_pred >= 0] = 1\n",
    "\n",
    "        train_pred[train_pred < 0] = 0\n",
    "\n",
    "        train_pred = train_pred.detach().numpy().flatten()\n",
    "\n",
    "        train_pred = train_pred.astype(int)\n",
    "\n",
    "        train_error = 1 - np.mean(train_pred == train_target)\n",
    "\n",
    "        print(f\"width: {i}, depth:{j}, train error: {train_error.round(3)}\")\n",
    "\n",
    "        #test predictions -> add to csv\n",
    "\n",
    "        test_pred = NeuralNet.forward(test_data)\n",
    "\n",
    "        test_pred[test_pred >= 0] = 1\n",
    "\n",
    "        test_pred[test_pred < 0] = 0\n",
    "\n",
    "        test_pred = test_pred.detach().numpy().flatten()\n",
    "        \n",
    "        test_pred = test_pred.astype(int)\n",
    "\n",
    "        nn_predictions_df = pd.DataFrame({'ID': sampledf['ID'], \n",
    "                                   'Prediction': test_pred})\n",
    "\n",
    "        nn_predictions_df.to_csv(\"out-csv/\" + \"tanh-\" + \"width-\" + str(i) + \"-depth-\" + str(j) + \".csv\", index=False)\n",
    "\n"
   ]
  },
  {
   "cell_type": "code",
   "execution_count": 50,
   "metadata": {},
   "outputs": [
    {
     "output_type": "stream",
     "name": "stdout",
     "text": [
      "\n",
      "ReLu:\n",
      "\n",
      "width: 5, depth:3, train error: 0.757\n",
      "width: 5, depth:5, train error: 0.758\n",
      "width: 5, depth:9, train error: 0.759\n",
      "width: 10, depth:3, train error: 0.758\n",
      "width: 10, depth:5, train error: 0.759\n",
      "width: 10, depth:9, train error: 0.759\n",
      "width: 25, depth:3, train error: 0.242\n",
      "width: 25, depth:5, train error: 0.759\n",
      "width: 25, depth:9, train error: 0.242\n",
      "width: 50, depth:3, train error: 0.737\n",
      "width: 50, depth:5, train error: 0.241\n",
      "width: 50, depth:9, train error: 0.293\n"
     ]
    },
    {
     "output_type": "error",
     "ename": "KeyboardInterrupt",
     "evalue": "",
     "traceback": [
      "\u001b[0;31m---------------------------------------------------------------------------\u001b[0m",
      "\u001b[0;31mKeyboardInterrupt\u001b[0m                         Traceback (most recent call last)",
      "\u001b[0;32m/var/folders/dn/nlt677wd5sb6q9mrpms5syfw0000gn/T/ipykernel_5101/3491410001.py\u001b[0m in \u001b[0;36m<module>\u001b[0;34m\u001b[0m\n\u001b[1;32m     33\u001b[0m \u001b[0;34m\u001b[0m\u001b[0m\n\u001b[1;32m     34\u001b[0m             \u001b[0;31m# Calling the step function on an Optimizer makes an update to its parameters\u001b[0m\u001b[0;34m\u001b[0m\u001b[0;34m\u001b[0m\u001b[0;34m\u001b[0m\u001b[0m\n\u001b[0;32m---> 35\u001b[0;31m             \u001b[0moptimizer\u001b[0m\u001b[0;34m.\u001b[0m\u001b[0mstep\u001b[0m\u001b[0;34m(\u001b[0m\u001b[0;34m)\u001b[0m\u001b[0;34m\u001b[0m\u001b[0;34m\u001b[0m\u001b[0m\n\u001b[0m\u001b[1;32m     36\u001b[0m \u001b[0;34m\u001b[0m\u001b[0m\n\u001b[1;32m     37\u001b[0m         \u001b[0;31m#train error\u001b[0m\u001b[0;34m\u001b[0m\u001b[0;34m\u001b[0m\u001b[0;34m\u001b[0m\u001b[0m\n",
      "\u001b[0;32m/usr/local/lib/python3.9/site-packages/torch/optim/optimizer.py\u001b[0m in \u001b[0;36mwrapper\u001b[0;34m(*args, **kwargs)\u001b[0m\n\u001b[1;32m     85\u001b[0m                 \u001b[0mobj\u001b[0m\u001b[0;34m,\u001b[0m \u001b[0;34m*\u001b[0m\u001b[0m_\u001b[0m \u001b[0;34m=\u001b[0m \u001b[0margs\u001b[0m\u001b[0;34m\u001b[0m\u001b[0;34m\u001b[0m\u001b[0m\n\u001b[1;32m     86\u001b[0m                 \u001b[0mprofile_name\u001b[0m \u001b[0;34m=\u001b[0m \u001b[0;34m\"Optimizer.step#{}.step\"\u001b[0m\u001b[0;34m.\u001b[0m\u001b[0mformat\u001b[0m\u001b[0;34m(\u001b[0m\u001b[0mobj\u001b[0m\u001b[0;34m.\u001b[0m\u001b[0m__class__\u001b[0m\u001b[0;34m.\u001b[0m\u001b[0m__name__\u001b[0m\u001b[0;34m)\u001b[0m\u001b[0;34m\u001b[0m\u001b[0;34m\u001b[0m\u001b[0m\n\u001b[0;32m---> 87\u001b[0;31m                 \u001b[0;32mwith\u001b[0m \u001b[0mtorch\u001b[0m\u001b[0;34m.\u001b[0m\u001b[0mautograd\u001b[0m\u001b[0;34m.\u001b[0m\u001b[0mprofiler\u001b[0m\u001b[0;34m.\u001b[0m\u001b[0mrecord_function\u001b[0m\u001b[0;34m(\u001b[0m\u001b[0mprofile_name\u001b[0m\u001b[0;34m)\u001b[0m\u001b[0;34m:\u001b[0m\u001b[0;34m\u001b[0m\u001b[0;34m\u001b[0m\u001b[0m\n\u001b[0m\u001b[1;32m     88\u001b[0m                     \u001b[0;32mreturn\u001b[0m \u001b[0mfunc\u001b[0m\u001b[0;34m(\u001b[0m\u001b[0;34m*\u001b[0m\u001b[0margs\u001b[0m\u001b[0;34m,\u001b[0m \u001b[0;34m**\u001b[0m\u001b[0mkwargs\u001b[0m\u001b[0;34m)\u001b[0m\u001b[0;34m\u001b[0m\u001b[0;34m\u001b[0m\u001b[0m\n\u001b[1;32m     89\u001b[0m             \u001b[0;32mreturn\u001b[0m \u001b[0mwrapper\u001b[0m\u001b[0;34m\u001b[0m\u001b[0;34m\u001b[0m\u001b[0m\n",
      "\u001b[0;32m/usr/local/lib/python3.9/site-packages/torch/autograd/profiler.py\u001b[0m in \u001b[0;36m__init__\u001b[0;34m(self, name)\u001b[0m\n\u001b[1;32m    430\u001b[0m         \u001b[0;31m# Stores underlying RecordFunction as a tensor. TODO: move to custom\u001b[0m\u001b[0;34m\u001b[0m\u001b[0;34m\u001b[0m\u001b[0;34m\u001b[0m\u001b[0m\n\u001b[1;32m    431\u001b[0m         \u001b[0;31m# class (https://github.com/pytorch/pytorch/issues/35026).\u001b[0m\u001b[0;34m\u001b[0m\u001b[0;34m\u001b[0m\u001b[0;34m\u001b[0m\u001b[0m\n\u001b[0;32m--> 432\u001b[0;31m         \u001b[0mself\u001b[0m\u001b[0;34m.\u001b[0m\u001b[0mhandle\u001b[0m\u001b[0;34m:\u001b[0m \u001b[0mtorch\u001b[0m\u001b[0;34m.\u001b[0m\u001b[0mTensor\u001b[0m \u001b[0;34m=\u001b[0m \u001b[0mtorch\u001b[0m\u001b[0;34m.\u001b[0m\u001b[0mzeros\u001b[0m\u001b[0;34m(\u001b[0m\u001b[0;36m1\u001b[0m\u001b[0;34m)\u001b[0m\u001b[0;34m\u001b[0m\u001b[0;34m\u001b[0m\u001b[0m\n\u001b[0m\u001b[1;32m    433\u001b[0m \u001b[0;34m\u001b[0m\u001b[0m\n\u001b[1;32m    434\u001b[0m     \u001b[0;32mdef\u001b[0m \u001b[0m__enter__\u001b[0m\u001b[0;34m(\u001b[0m\u001b[0mself\u001b[0m\u001b[0;34m)\u001b[0m\u001b[0;34m:\u001b[0m\u001b[0;34m\u001b[0m\u001b[0;34m\u001b[0m\u001b[0m\n",
      "\u001b[0;31mKeyboardInterrupt\u001b[0m: "
     ]
    }
   ],
   "source": [
    "#Training\n",
    "\n",
    "print(\"\\nReLu:\\n\")\n",
    "\n",
    "depth = [3, 5, 9]\n",
    "width = [5, 10, 25, 50, 100]\n",
    "criterion = criterion = torch.nn.MSELoss(reduction='sum')\n",
    "\n",
    "for i in width:\n",
    "    for j in depth:\n",
    "        NeuralNet = NN(i, j, \"relu\")\n",
    "        optimizer = torch.optim.SGD(NeuralNet.parameters(), lr=0.01, momentum=0.9)\n",
    "        for t in range(1000):\n",
    "\n",
    "            optimizer.zero_grad()\n",
    "\n",
    "            # Forward pass: compute predicted y by passing x to the model.\n",
    "            y_train_pred_tensor = NeuralNet.forward(train_data).flatten()\n",
    "\n",
    "            y_train_np = np.float32(train_target)\n",
    "            y_train_tensor = torch.from_numpy(y_train_np)\n",
    "            y_train_tensor.requires_grad = True\n",
    "            y_train_tensor = y_train_pred_tensor.flatten()\n",
    "\n",
    "            # print(y_train_pred_tensor)\n",
    "\n",
    "            # print(y_train_tensor)\n",
    "\n",
    "            loss = criterion(y_train_pred_tensor.flatten(), y_train_tensor)\n",
    "\n",
    "            # Backward pass: compute gradient of the loss with respect to model\n",
    "            loss.backward()\n",
    "\n",
    "            # Calling the step function on an Optimizer makes an update to its parameters\n",
    "            optimizer.step()\n",
    "\n",
    "        #train error\n",
    "        train_pred = NeuralNet.forward(train_data)\n",
    "\n",
    "        train_pred[train_pred >= 0] = 1\n",
    "\n",
    "        train_pred[train_pred < 0] = 0\n",
    "\n",
    "        train_pred = train_pred.detach().numpy().flatten()\n",
    "\n",
    "        train_pred = train_pred.astype(int)\n",
    "\n",
    "        train_error = 1 - np.mean(train_pred == train_target)\n",
    "\n",
    "        print(f\"width: {i}, depth:{j}, train error: {train_error.round(3)}\")\n",
    "\n",
    "        #test predictions -> add to csv\n",
    "\n",
    "        test_pred = NeuralNet.forward(test_data)\n",
    "\n",
    "        test_pred[test_pred >= 0] = 1\n",
    "\n",
    "        test_pred[test_pred < 0] = 0\n",
    "\n",
    "        test_pred = test_pred.detach().numpy().flatten()\n",
    "        \n",
    "        test_pred = test_pred.astype(int)\n",
    "\n",
    "        nn_predictions_df = pd.DataFrame({'ID': sampledf['ID'], \n",
    "                                   'Prediction': test_pred})\n",
    "\n",
    "        nn_predictions_df.to_csv(\"out-csv/\" + \"relu-\" + \"width-\" + str(i) + \"-depth-\" + str(j) + \".csv\", index=False)\n",
    "\n"
   ]
  },
  {
   "cell_type": "code",
   "execution_count": 284,
   "metadata": {},
   "outputs": [
    {
     "output_type": "execute_result",
     "data": {
      "text/plain": [
       "'/Users/janalynjenn/Desktop/FinalProjectMachineLearning/submissions.zip'"
      ]
     },
     "metadata": {},
     "execution_count": 284
    }
   ],
   "source": [
    "import shutil\n",
    "shutil.make_archive('submissions', 'zip', 'out-csv')"
   ]
  }
 ]
}